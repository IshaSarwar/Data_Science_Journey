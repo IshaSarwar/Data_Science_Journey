{
 "cells": [
  {
   "cell_type": "code",
   "execution_count": 1,
   "metadata": {},
   "outputs": [],
   "source": [
    "#import libraraies\n",
    "import pandas as pd\n",
    "import  numpy  as np\n",
    "import matplotlib.pyplot as plt\n",
    "import seaborn as sns\n",
    "\n",
    "\n",
    "from sklearn.model_selection import train_test_split\n",
    "from sklearn.metrics import  accuracy_score,precision_score,f1_score,recall_score\n",
    "from sklearn.preprocessing import LabelEncoder,MinMaxScaler\n",
    "from sklearn.tree import DecisionTreeClassifier\n",
    "from sklearn.ensemble import  RandomForestClassifier\n",
    "from xgboost import XGBClassifier\n",
    "\n",
    "\n"
   ]
  },
  {
   "cell_type": "code",
   "execution_count": 2,
   "metadata": {},
   "outputs": [
    {
     "data": {
      "text/html": [
       "<div>\n",
       "<style scoped>\n",
       "    .dataframe tbody tr th:only-of-type {\n",
       "        vertical-align: middle;\n",
       "    }\n",
       "\n",
       "    .dataframe tbody tr th {\n",
       "        vertical-align: top;\n",
       "    }\n",
       "\n",
       "    .dataframe thead th {\n",
       "        text-align: right;\n",
       "    }\n",
       "</style>\n",
       "<table border=\"1\" class=\"dataframe\">\n",
       "  <thead>\n",
       "    <tr style=\"text-align: right;\">\n",
       "      <th></th>\n",
       "      <th>carat</th>\n",
       "      <th>cut</th>\n",
       "      <th>color</th>\n",
       "      <th>clarity</th>\n",
       "      <th>depth</th>\n",
       "      <th>table</th>\n",
       "      <th>price</th>\n",
       "      <th>x</th>\n",
       "      <th>y</th>\n",
       "      <th>z</th>\n",
       "    </tr>\n",
       "  </thead>\n",
       "  <tbody>\n",
       "    <tr>\n",
       "      <th>0</th>\n",
       "      <td>0.23</td>\n",
       "      <td>Ideal</td>\n",
       "      <td>E</td>\n",
       "      <td>SI2</td>\n",
       "      <td>61.5</td>\n",
       "      <td>55.0</td>\n",
       "      <td>326</td>\n",
       "      <td>3.95</td>\n",
       "      <td>3.98</td>\n",
       "      <td>2.43</td>\n",
       "    </tr>\n",
       "    <tr>\n",
       "      <th>1</th>\n",
       "      <td>0.21</td>\n",
       "      <td>Premium</td>\n",
       "      <td>E</td>\n",
       "      <td>SI1</td>\n",
       "      <td>59.8</td>\n",
       "      <td>61.0</td>\n",
       "      <td>326</td>\n",
       "      <td>3.89</td>\n",
       "      <td>3.84</td>\n",
       "      <td>2.31</td>\n",
       "    </tr>\n",
       "    <tr>\n",
       "      <th>2</th>\n",
       "      <td>0.23</td>\n",
       "      <td>Good</td>\n",
       "      <td>E</td>\n",
       "      <td>VS1</td>\n",
       "      <td>56.9</td>\n",
       "      <td>65.0</td>\n",
       "      <td>327</td>\n",
       "      <td>4.05</td>\n",
       "      <td>4.07</td>\n",
       "      <td>2.31</td>\n",
       "    </tr>\n",
       "    <tr>\n",
       "      <th>3</th>\n",
       "      <td>0.29</td>\n",
       "      <td>Premium</td>\n",
       "      <td>I</td>\n",
       "      <td>VS2</td>\n",
       "      <td>62.4</td>\n",
       "      <td>58.0</td>\n",
       "      <td>334</td>\n",
       "      <td>4.20</td>\n",
       "      <td>4.23</td>\n",
       "      <td>2.63</td>\n",
       "    </tr>\n",
       "    <tr>\n",
       "      <th>4</th>\n",
       "      <td>0.31</td>\n",
       "      <td>Good</td>\n",
       "      <td>J</td>\n",
       "      <td>SI2</td>\n",
       "      <td>63.3</td>\n",
       "      <td>58.0</td>\n",
       "      <td>335</td>\n",
       "      <td>4.34</td>\n",
       "      <td>4.35</td>\n",
       "      <td>2.75</td>\n",
       "    </tr>\n",
       "  </tbody>\n",
       "</table>\n",
       "</div>"
      ],
      "text/plain": [
       "   carat      cut color clarity  depth  table  price     x     y     z\n",
       "0   0.23    Ideal     E     SI2   61.5   55.0    326  3.95  3.98  2.43\n",
       "1   0.21  Premium     E     SI1   59.8   61.0    326  3.89  3.84  2.31\n",
       "2   0.23     Good     E     VS1   56.9   65.0    327  4.05  4.07  2.31\n",
       "3   0.29  Premium     I     VS2   62.4   58.0    334  4.20  4.23  2.63\n",
       "4   0.31     Good     J     SI2   63.3   58.0    335  4.34  4.35  2.75"
      ]
     },
     "execution_count": 2,
     "metadata": {},
     "output_type": "execute_result"
    }
   ],
   "source": [
    "#import the data\n",
    "df=sns.load_dataset('diamonds')\n",
    "df.head()\n",
    "\n"
   ]
  },
  {
   "cell_type": "code",
   "execution_count": 13,
   "metadata": {},
   "outputs": [],
   "source": [
    "#split the data  into x and y\n",
    "X=df.drop('cut', axis=1)\n",
    "y=df['cut']\n",
    "\n",
    "#encode the features\n",
    "le=LabelEncoder()\n",
    "X['clarity']=le.fit_transform(X['clarity'])\n",
    "X['color']=le.fit_transform(X['color'])\n",
    "\n",
    "#encode the target\n",
    "y=le.fit_transform(y)\n",
    "\n",
    "#split the data  into train and test\n",
    "X_test,X_train,y_test,y_train=train_test_split(X,y,test_size=0.2, random_state=42)\n"
   ]
  },
  {
   "cell_type": "code",
   "execution_count": 14,
   "metadata": {},
   "outputs": [
    {
     "name": "stdout",
     "output_type": "stream",
     "text": [
      "DecisionTreeClassifier\n",
      "CPU times: total: 0 ns\n",
      "Wall time: 0 ns\n",
      "Accuracy score:  0.6717649239896181\n",
      "Precision score:  0.6717649239896181\n",
      "recall_score:  0.6717649239896181\n",
      "f1_score:  0.6717649239896181\n"
     ]
    }
   ],
   "source": [
    "print('DecisionTreeClassifier')\n",
    "\n",
    "%time\n",
    "#train the Decision tree model\n",
    "dt=DecisionTreeClassifier()\n",
    "#fi the  the model\n",
    "dt.fit(X_train,y_train)\n",
    "\n",
    "#predict the model\n",
    "y_pred=dt.predict(X_test)\n",
    "\n",
    "#evalute the model\n",
    "print('Accuracy score: ',accuracy_score(y_test,y_pred))\n",
    "print('Precision score: ', precision_score(y_test,y_pred, average='micro'))\n",
    "print('recall_score: ',recall_score(y_test,y_pred, average='micro'))\n",
    "print('f1_score: ',f1_score(y_test,y_pred, average='micro'))\n",
    "\n",
    "\n",
    "\n"
   ]
  },
  {
   "cell_type": "code",
   "execution_count": 15,
   "metadata": {},
   "outputs": [
    {
     "name": "stdout",
     "output_type": "stream",
     "text": [
      "RandomForestClassifier\n",
      "CPU times: total: 0 ns\n",
      "Wall time: 0 ns\n",
      "Accuracy_score:  0.7593854282536151\n",
      "precision_score:  0.7593854282536151\n",
      "recall_acore 0.7593854282536151\n",
      "f1_score:  1.0\n"
     ]
    }
   ],
   "source": [
    "print('RandomForestClassifier')\n",
    "%time\n",
    "#train the random forest model\n",
    "rf=RandomForestClassifier()\n",
    "rf.fit(X_train,y_train)\n",
    "\n",
    "#Predict the model\n",
    "y_pred=rf.predict(X_test)\n",
    "\n",
    "#evaluate the model\n",
    "print('Accuracy_score: ',accuracy_score(y_test,y_pred))\n",
    "print('precision_score: ',precision_score(y_test,y_pred, average='micro'))\n",
    "print('recall_acore',recall_score(y_test,y_pred,  average='micro'))\n",
    "print('f1_score: ',f1_score(y_test,y_test, average='micro'))"
   ]
  },
  {
   "cell_type": "code",
   "execution_count": 16,
   "metadata": {},
   "outputs": [
    {
     "name": "stdout",
     "output_type": "stream",
     "text": [
      "XGBClassifier\n",
      "CPU times: total: 0 ns\n",
      "Wall time: 0 ns\n",
      "accuracy_acore:  0.7788746755654431\n",
      "precision_score:  0.7788746755654431\n",
      "recall_score:  0.7788746755654431\n",
      "f1_score:  0.7788746755654431\n"
     ]
    }
   ],
   "source": [
    "print('XGBClassifier')\n",
    "%time\n",
    "xgboost=XGBClassifier()\n",
    "xgboost.fit(X_train,y_train)\n",
    "\n",
    "#predict the model\n",
    "y_pred=xgboost.predict(X_test)\n",
    "\n",
    "#evaluate the model\n",
    "print('accuracy_acore: ', accuracy_score(y_pred,y_test))\n",
    "print('precision_score: ',precision_score(y_test,y_pred, average='micro'))\n",
    "print('recall_score: ',recall_score(y_test,y_pred, average='micro'))\n",
    "print('f1_score: ',f1_score(y_test,y_pred, average='micro'))"
   ]
  },
  {
   "cell_type": "code",
   "execution_count": null,
   "metadata": {},
   "outputs": [],
   "source": []
  }
 ],
 "metadata": {
  "kernelspec": {
   "display_name": "python_ml",
   "language": "python",
   "name": "python3"
  },
  "language_info": {
   "codemirror_mode": {
    "name": "ipython",
    "version": 3
   },
   "file_extension": ".py",
   "mimetype": "text/x-python",
   "name": "python",
   "nbconvert_exporter": "python",
   "pygments_lexer": "ipython3",
   "version": "3.11.9"
  }
 },
 "nbformat": 4,
 "nbformat_minor": 2
}
