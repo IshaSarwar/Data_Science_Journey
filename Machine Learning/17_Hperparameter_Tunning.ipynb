{
 "cells": [
  {
   "cell_type": "markdown",
   "metadata": {},
   "source": [
    "# HyperParametr Tunning\n",
    "\n",
    "Hperparameter tunning is the process of finding the best combination of hyperparametrs for a given model.\n",
    "\n",
    "**Types:**\n",
    "\n",
    "- `GridSearchCV:`Exhaustive search over all possible combination of hyperparametrs.\n",
    "- `GridSearch:`Randomly sample combinations of hyperparameters from a given distributions.\n",
    "- `Bayesian Optimization:`Model the objective function and search for the maximum.\n",
    "- `Gradient-based Optimization:`Use gradient decent to find the minimum of the objective function."
   ]
  },
  {
   "cell_type": "code",
   "execution_count": 1,
   "metadata": {},
   "outputs": [],
   "source": [
    "import pandas as pd\n",
    "import numpy as np\n",
    "import matplotlib.pyplot as plt\n",
    "import seaborn as sns\n",
    "from sklearn.preprocessing import LabelEncoder,MinMaxScaler\n",
    "from sklearn.model_selection import train_test_split,GridSearchCV\n",
    "from sklearn.ensemble import RandomForestClassifier\n",
    "from sklearn.metrics import accuracy_score,classification_report,confusion_matrix"
   ]
  },
  {
   "cell_type": "code",
   "execution_count": 12,
   "metadata": {},
   "outputs": [],
   "source": [
    "from sklearn.datasets import load_iris\n",
    "\n",
    "iris=load_iris()\n",
    "\n",
    "X=iris.data\n",
    "y=iris.target"
   ]
  },
  {
   "cell_type": "code",
   "execution_count": 14,
   "metadata": {},
   "outputs": [
    {
     "name": "stdout",
     "output_type": "stream",
     "text": [
      "Fitting 5 folds for each of 252 candidates, totalling 1260 fits\n"
     ]
    }
   ],
   "source": [
    "\n",
    "#define the model\n",
    "model=RandomForestClassifier()\n",
    "\n",
    "#creat the parametrt grid\n",
    "param_grid={\n",
    "    'n_estimators':[50,100,200,300,400,500],\n",
    "    'criterion':['gini','entropy'],\n",
    "    'max_features':['auto', 'sqrt', 'Log2'],\n",
    "    'max_depth':[4,5,6,7,8,9,10],\n",
    "}\n",
    "\n",
    "#set up the grid\n",
    "grid= GridSearchCV(\n",
    "    estimator=model,\n",
    "    param_grid=param_grid,\n",
    "    cv=5,\n",
    "    scoring='accuracy',\n",
    "    verbose=1,\n",
    "    n_jobs=-1\n",
    "\n",
    ")\n",
    "\n",
    "#fit the model\n",
    "grid.fit(X,y)\n",
    "\n",
    "#print the best parameters\n",
    "print('Best parameters:',grid.best_params_)\n"
   ]
  },
  {
   "cell_type": "code",
   "execution_count": null,
   "metadata": {},
   "outputs": [],
   "source": []
  }
 ],
 "metadata": {
  "kernelspec": {
   "display_name": "python_ml",
   "language": "python",
   "name": "python3"
  },
  "language_info": {
   "codemirror_mode": {
    "name": "ipython",
    "version": 3
   },
   "file_extension": ".py",
   "mimetype": "text/x-python",
   "name": "python",
   "nbconvert_exporter": "python",
   "pygments_lexer": "ipython3",
   "version": "3.11.5"
  }
 },
 "nbformat": 4,
 "nbformat_minor": 2
}
