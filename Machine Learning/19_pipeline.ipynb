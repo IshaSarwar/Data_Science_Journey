{
 "cells": [
  {
   "cell_type": "code",
   "execution_count": 1,
   "metadata": {},
   "outputs": [
    {
     "name": "stdout",
     "output_type": "stream",
     "text": [
      "accuracy_score 0.7821229050279329\n"
     ]
    }
   ],
   "source": [
    "import pandas as pd\n",
    "import seaborn as sns\n",
    "import numpy as np\n",
    "from sklearn.preprocessing import LabelEncoder,OneHotEncoder\n",
    "from sklearn.model_selection import train_test_split\n",
    "from sklearn.pipeline import Pipeline\n",
    "from sklearn.impute import SimpleImputer\n",
    "from sklearn.metrics import accuracy_score\n",
    "from sklearn.ensemble import RandomForestClassifier\n",
    "from sklearn.compose import ColumnTransformer\n",
    "\n",
    "\n",
    "#load the  data\n",
    "df=sns.load_dataset('titanic')\n",
    "\n",
    "#select the features and the target data\n",
    "X=df[['pclass','age','sex','fare','embarked']]\n",
    "y=df['survived']\n",
    "\n",
    "#split the data into y=tain and test sets\n",
    "X_train,X_test,y_train,y_test=train_test_split(X,y,test_size=0.2,random_state=42)\n",
    "\n",
    "#Define  the columntransformer for imputing missing values\n",
    "numeric_features=['age','fare']\n",
    "categorical_features=['pclass','embarked','sex']\n",
    "\n",
    "\n",
    "numeric_transformer=Pipeline(steps=[\n",
    "    ('imputer',SimpleImputer(strategy='median'))\n",
    "])\n",
    "\n",
    "categorical_transformer=Pipeline(steps=[\n",
    "    ('imputer',SimpleImputer(strategy='most_frequent')),\n",
    "    ('encoder',OneHotEncoder\n",
    "     (handle_unknown='ignore'))\n",
    "])\n",
    "\n",
    "preprocessor=ColumnTransformer(\n",
    "    transformers=[\n",
    "        ('num',numeric_transformer,numeric_features),\n",
    "        ('cat',categorical_transformer,categorical_features)\n",
    "    ])\n",
    "\n",
    "#create the pipeline with the preprocessor and Random forest classifier\n",
    "Pipeline = Pipeline(steps=[\n",
    "    ('preprocessor',preprocessor),\n",
    "    ('classifier',RandomForestClassifier(random_state=42))\n",
    "])\n",
    "\n",
    "#fit the pipeline to the training data\n",
    "\n",
    "Pipeline.fit(X_train,y_train)\n",
    "\n",
    "\n",
    "#make predictions on the test data\n",
    "\n",
    "y_pred=Pipeline.predict(X_test)\n",
    "\n",
    "\n",
    "#evaluate the model\n",
    "accuracy=accuracy_score(y_test,y_pred)\n",
    "print('accuracy_score',accuracy)\n",
    "\n",
    "\n"
   ]
  },
  {
   "cell_type": "markdown",
   "metadata": {},
   "source": [
    "## Code Explanation:\n",
    "\n",
    "IN this example;we start by loading the titanic dataset from seaborn using sns.load_datset('titanic').WE then select the relevant features and target variables (survived) to train our model.Next,we split the data into training and test sets using train_test_split from scikit-learn.\n",
    "\n",
    "The Pipeline is created using the pipleline class from sklearn.it consist of three steps\n",
    "\n",
    "`Data preprocessing step:`The simpleimputer is used to handle missing values by replacing them with the most frequent value in each column\n",
    "\n",
    "`Feature engineering step:`The onehotencoder is used to convert categorical variables (sex,embarked)as binary features.\n",
    "\n",
    "`Model training step:`The RandomForestClassifier is used as Machine learning model for classification.\n",
    "\n",
    "We then fit the pipeline on the training data using pipleline.fit(x_train,y_train).Afterward, We make predictions on the test data using pipeline.predict(`X_test`).\n",
    "\n",
    "Finally, we calculate the accuracy score by comparing the predicted values(`y_pred,y_test`) with the actual values(`y_test`).\n",
    "\n",
    "\n"
   ]
  },
  {
   "cell_type": "markdown",
   "metadata": {},
   "source": [
    "# Hyperparameter Tunning in Pipeline"
   ]
  },
  {
   "cell_type": "code",
   "execution_count": 3,
   "metadata": {},
   "outputs": [
    {
     "name": "stdout",
     "output_type": "stream",
     "text": [
      "accuracy_score 0.8324022346368715\n",
      "best hyperparameters {'model__max_depth': None, 'model__min_samples_split': 5, 'model__n_estimators': 300}\n"
     ]
    }
   ],
   "source": [
    "import pandas as pd\n",
    "import seaborn as sns\n",
    "from sklearn.model_selection import train_test_split,GridSearchCV\n",
    "from sklearn.pipeline import Pipeline\n",
    "from sklearn.impute import SimpleImputer\n",
    "from sklearn.preprocessing import  OneHotEncoder\n",
    "from sklearn.ensemble import RandomForestClassifier\n",
    "from sklearn.metrics import accuracy_score\n",
    "\n",
    "#load the titanic dataset from seaborn\n",
    "\n",
    "df=sns.load_dataset('titanic')\n",
    "\n",
    "#select the feature and target  variable\n",
    "\n",
    "X=df[['pclass','age','sex','fare','embarked']]\n",
    "y=df['survived']\n",
    "\n",
    "#split the data\n",
    "X_train,X_test,y_train,y_test=train_test_split(X,y,test_size=0.2,random_state=42)\n",
    "\n",
    "#create a pipeline\n",
    "pipeline = Pipeline([\n",
    "    ('imputer', SimpleImputer(strategy='most_frequent')),\n",
    "    ('encoder',OneHotEncoder(handle_unknown='ignore')),\n",
    "    ('model',RandomForestClassifier(random_state=42))\n",
    "\n",
    "])\n",
    "\n",
    "#define the hyperparameters\n",
    "hyperparameters={\n",
    "    'model__n_estimators':[100,200,300],\n",
    "    'model__max_depth':[None,5,10],\n",
    "    'model__min_samples_split':[2,5,10]\n",
    "}\n",
    "\n",
    "#perform grid search cross validatiopn\n",
    "grid_search= GridSearchCV(pipeline,hyperparameters,cv=5)\n",
    "grid_search.fit(X_train,y_train)\n",
    "\n",
    "#get the best model\n",
    "best_model=grid_search.best_estimator_\n",
    "\n",
    "#make pprediction on the test data  using the best model\n",
    "y_pred=best_model.predict(X_test)\n",
    "\n",
    "#calculate the accuracy score\n",
    "\n",
    "accuracy=accuracy_score(y_test,y_pred)\n",
    "print('accuracy_score',accuracy)\n",
    "\n",
    "#print the best hyperparametrs\n",
    "print('best hyperparameters',grid_search.best_params_)\n"
   ]
  },
  {
   "cell_type": "markdown",
   "metadata": {},
   "source": []
  }
 ],
 "metadata": {
  "kernelspec": {
   "display_name": "python_ml",
   "language": "python",
   "name": "python3"
  },
  "language_info": {
   "codemirror_mode": {
    "name": "ipython",
    "version": 3
   },
   "file_extension": ".py",
   "mimetype": "text/x-python",
   "name": "python",
   "nbconvert_exporter": "python",
   "pygments_lexer": "ipython3",
   "version": "3.11.9"
  }
 },
 "nbformat": 4,
 "nbformat_minor": 2
}
