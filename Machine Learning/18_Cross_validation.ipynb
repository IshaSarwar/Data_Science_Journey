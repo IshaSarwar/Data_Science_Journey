{
 "cells": [
  {
   "cell_type": "markdown",
   "metadata": {},
   "source": [
    "# Cross Validation\n",
    "  \n",
    "- Cross validation is a technique yo evaluate a model by splitting the datainto a training and a test set.\n",
    "- The training set is used  to train the model, and the test set is used to evaluate the model's performance.\n",
    "\n",
    "Cross validation is a statistical technique used in Machine learning and the data analysis to evaluate how well a model is able to generalize to new data.\n",
    "\n",
    "\n",
    "In a prediction problem, a model is usually given a dataset of known data on which training is run(training  dataset), and a dataset pf unknown data (or first  seen data) against which thye model is tested (called the validation dataset pr testing set).\n",
    "\n",
    "The basic idea is to divide the available data into two parts:\n",
    "\n",
    " 1. a traing set,which is used to train the model. and \n",
    " 2. a validation set, which is used to evaluate the models's performance.\n",
    "   \n",
    "## `1. K-fold cross validation`\n",
    "\n",
    "In k-fold cross validation, the available data is divided  into two `k` equal parts or `\"folds\"`. The model's is then trained on `K-1` of the folds and validated on the remaing  fold.This processis repeated k times, which each fold beinng used once as the validation set. The result from each fold are then averaged to obtain an iverall estimate of the models performance.\n",
    "\n",
    "## Summary:\n",
    "\n",
    "In summary,cross validation is a powerful technique for evaluating the performance of machinne learning models and can help to ensure that our models are accurate ,reliable and able to generalize to new data.\n",
    "\n",
    "## Typoes of Cross validation:\n",
    "  - K-fold cross validation\n",
    "  - train-test dplit\n",
    "  - leave-one-out cross-validtaion (LOOCV)\n",
    "  - stratified cross validation\n",
    "  - Times series cross validation\n",
    "  - Group cross validation\n",
    " "
   ]
  },
  {
   "cell_type": "code",
   "execution_count": 2,
   "metadata": {},
   "outputs": [
    {
     "name": "stdout",
     "output_type": "stream",
     "text": [
      "score for each fold [0.93333333 0.96666667 0.93333333 0.93333333 1.        ]\n",
      "mean score 0.9533333333333334\n",
      "standard deviation 0.02666666666666666\n",
      "CPU times: total: 31.2 ms\n",
      "Wall time: 33 ms\n"
     ]
    }
   ],
   "source": [
    "%%time\n",
    "from sklearn.datasets import load_iris\n",
    "from sklearn.model_selection import cross_val_score\n",
    "from sklearn.naive_bayes import GaussianNB\n",
    "\n",
    "#load the isis dataset\n",
    "iris=load_iris()\n",
    "\n",
    "#Define the gussian naive bayes model\n",
    "nb=GaussianNB()\n",
    "\n",
    "#perform k fold cross validation with k=5\n",
    "scores = cross_val_score(nb,iris.data,iris.target, cv=5, scoring='accuracy')\n",
    "\n",
    "#print the scores for each fold anf the mean score\n",
    "print('score for each fold',scores)\n",
    "print('mean score', scores.mean())\n",
    "print('standard deviation', scores.std())"
   ]
  },
  {
   "cell_type": "markdown",
   "metadata": {},
   "source": [
    "**# K fold cross validation  VS train_test split**\n",
    "\n",
    "k-fold cross validation and train test split are two popular  techniques ued is machine learning to evaluate the model performance of a model. Here are some key differences between the two:\n",
    "\n",
    "#### `1.Data usage:`\n",
    "\n",
    "> In k-fold cross validaton, the data is split into k equal parts or \"folds\". The model is trained on k-1 of the folds and  the validated on the remaining fold. This process is repeated  k  times, with each fold beimg  used once as the validation set.\n",
    " \n",
    ">In contrast, train-test  split divides the data into two parts: a training set and a testing set,typically with  a ratio of 10-30 or 80-20. The model is trained on the training set and evaluated on the testing set.\n",
    "\n",
    "#### `2.Data Size:`\n",
    "\n",
    "> K-fold cross-validatioon is often used when the dataset is relatively small, as it allows for better use of the available data.\n",
    "\n",
    "> In contrast,train-test dplit is typically used when the dataset is larger,as it faster to implement and may be sufficient  for evaluating the model's performance.\n",
    "\n",
    "#### `3.Performance estimation:`\n",
    "\n",
    "> K-fold cross- validation provides a more accurate estimate of the model's performance ,as it evaluates its performance on multiple independent subsets of the data. This helps to reduce the variance of the performance estimate and detect overfitting.\n",
    "\n",
    "> In contrast,train-test split provides a less accurate estimate of the model's performance , as it depends on the specific subset of the data used for testing.\n",
    "\n",
    "#### `4.Computation time:`\n",
    "\n",
    "> K-fold cross-validatiom can be computationally expensive as it require training and validating the model k times,\n",
    "\n",
    "> In contrast, train-test split is faster to implement and requires training and validating only once.\n",
    "\n",
    "\n",
    "Overall, `k-fold cross validation is more robust and accurate technique\n",
    "for evaluating the performance of a machine learning  model,especially when the dataset is relatively small.`\n",
    "\n",
    "`Train-test split is faster and simpler technique that can be used when the dataset is larger and a quick estimate of the model's performance  is needed.` \n",
    "\n",
    "\n",
    "\n",
    "\n",
    "\n",
    "\n"
   ]
  },
  {
   "cell_type": "code",
   "execution_count": 5,
   "metadata": {},
   "outputs": [
    {
     "name": "stdout",
     "output_type": "stream",
     "text": [
      "score for each fold [0.55102041 0.55102041 0.59183673 0.65306122 0.54166667]\n",
      "mean score 0.5777210884353741\n",
      "standard deviation 0.04147568336521195\n"
     ]
    }
   ],
   "source": [
    "import pandas as pd\n",
    "import numpy as np\n",
    "import seaborn as sns\n",
    "from sklearn.model_selection import train_test_split,cross_val_score\n",
    "from sklearn.naive_bayes import GaussianNB\n",
    "\n",
    "#load the  dataset\n",
    "tips=sns.load_dataset('tips')\n",
    "\n",
    "#define the featurws and target\n",
    "X=tips[['total_bill', 'tip','size']]\n",
    "y=tips['sex']\n",
    "\n",
    "#define the gussian naive bayes model\n",
    "model=GaussianNB()\n",
    "\n",
    "#perform k fold cross validation with k=5\n",
    "\n",
    "scores1 = cross_val_score(model,X,y, cv=5, scoring='accuracy')\n",
    "\n",
    "#print the scores for each fold anf the mean score\n",
    "\n",
    "print('score for each fold',scores1)\n",
    "print('mean score', scores1.mean())\n",
    "print('standard deviation', scores1.std())\n",
    "\n"
   ]
  },
  {
   "cell_type": "code",
   "execution_count": 14,
   "metadata": {},
   "outputs": [
    {
     "name": "stdout",
     "output_type": "stream",
     "text": [
      "score for each fold [0.55102041 0.55102041 0.59183673 0.65306122 0.54166667]\n",
      "mean score 0.5777210884353741\n",
      "standard deviation 0.04147568336521195\n"
     ]
    },
    {
     "data": {
      "image/png": "[encoded data removed]",
      "text/plain": [
       "<Figure size 800x600 with 1 Axes>"
      ]
     },
     "metadata": {},
     "output_type": "display_data"
    }
   ],
   "source": [
    "#plot the reults\n",
    "import pandas as pd\n",
    "import numpy as np\n",
    "import seaborn as sns\n",
    "from sklearn.model_selection import train_test_split,cross_val_score\n",
    "from sklearn.naive_bayes import GaussianNB\n",
    "\n",
    "#load the  dataset\n",
    "tips=sns.load_dataset('tips')\n",
    "\n",
    "#define the featurws and target\n",
    "X=tips[['total_bill', 'tip','size']]\n",
    "y=tips['sex']\n",
    "\n",
    "#define the gussian naive bayes model\n",
    "model=GaussianNB()\n",
    "\n",
    "#perform k fold cross validation with k=5\n",
    "\n",
    "scores1 = cross_val_score(model,X,y, cv=5)\n",
    "\n",
    "#print the scores for each fold anf the mean score\n",
    "\n",
    "print('score for each fold',scores1)\n",
    "print('mean score', scores1.mean())\n",
    "print('standard deviation', scores1.std())\n",
    "\n",
    "import matplotlib.pyplot as plt\n",
    "plt.figure(figsize=(8,6))\n",
    "plt.plot(range(1,6),scores1, color='purple', marker='o', linestyle='dashed')\n",
    "plt.title('k-fold cross validation results')\n",
    "plt.xlabel('fold number')\n",
    "plt.ylabel('accuracy')\n",
    "plt.ylim([0.5,1.0])\n",
    "plt.show()"
   ]
  },
  {
   "cell_type": "code",
   "execution_count": null,
   "metadata": {},
   "outputs": [],
   "source": []
  }
 ],
 "metadata": {
  "kernelspec": {
   "display_name": "python_ml",
   "language": "python",
   "name": "python3"
  },
  "language_info": {
   "codemirror_mode": {
    "name": "ipython",
    "version": 3
   },
   "file_extension": ".py",
   "mimetype": "text/x-python",
   "name": "python",
   "nbconvert_exporter": "python",
   "pygments_lexer": "ipython3",
   "version": "3.11.9"
  }
 },
 "nbformat": 4,
 "nbformat_minor": 2
}
