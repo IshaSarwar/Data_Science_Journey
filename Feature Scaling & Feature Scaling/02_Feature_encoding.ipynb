{
 "cells": [
  {
   "cell_type": "markdown",
   "metadata": {},
   "source": [
    "# Feature Encoding"
   ]
  },
  {
   "cell_type": "markdown",
   "metadata": {},
   "source": [
    "## 1. One-hot encoding"
   ]
  },
  {
   "cell_type": "code",
   "execution_count": 1,
   "metadata": {},
   "outputs": [
    {
     "name": "stdout",
     "output_type": "stream",
     "text": [
      "       color\n",
      "0        Red\n",
      "1     Purple\n",
      "2  Navy Blue\n",
      "3      Green\n",
      "   color_Green  color_Navy Blue  color_Purple  color_Red\n",
      "0        False            False         False       True\n",
      "1        False            False          True      False\n",
      "2        False             True         False      False\n",
      "3         True            False         False      False\n"
     ]
    }
   ],
   "source": [
    "import pandas as pd\n",
    "#sample data\n",
    "data={'color':['Red','Purple','Navy Blue','Green']}\n",
    "df=pd.DataFrame(data)\n",
    "print(df)\n",
    "#One-Hot Encoding\n",
    "encoded_data=pd.get_dummies(df,columns=['color'])\n",
    "print(encoded_data)"
   ]
  },
  {
   "cell_type": "markdown",
   "metadata": {},
   "source": [
    "## 2.Label-Encoding"
   ]
  },
  {
   "cell_type": "code",
   "execution_count": 5,
   "metadata": {},
   "outputs": [
    {
     "name": "stdout",
     "output_type": "stream",
     "text": [
      "   animals\n",
      "0    Panda\n",
      "1  Penguin\n",
      "2      Cat\n",
      "3   Rabbit\n",
      "4      Cat\n",
      "   animals  animal_encoded\n",
      "0    Panda               1\n",
      "1  Penguin               2\n",
      "2      Cat               0\n",
      "3   Rabbit               3\n",
      "4      Cat               0\n"
     ]
    }
   ],
   "source": [
    "from sklearn.preprocessing import LabelEncoder\n",
    "#sample data\n",
    "data={'animals':['Panda','Penguin','Cat','Rabbit','Cat']}\n",
    "df=pd.DataFrame(data)\n",
    "print(df)\n",
    "\n",
    "#Label Encoding\n",
    "label_encoder=LabelEncoder()\n",
    "df['animal_encoded']=label_encoder.fit_transform(df['animals'])\n",
    "print(df)"
   ]
  },
  {
   "cell_type": "markdown",
   "metadata": {},
   "source": [
    "## 3.Ordinal Encoding\n"
   ]
  },
  {
   "cell_type": "code",
   "execution_count": 6,
   "metadata": {},
   "outputs": [
    {
     "name": "stdout",
     "output_type": "stream",
     "text": [
      "     size\n",
      "0   Small\n",
      "1  Medium\n",
      "2   Large\n",
      "3  Medium\n",
      "     size  size_encoder\n",
      "0   Small           0.0\n",
      "1  Medium           1.0\n",
      "2   Large           2.0\n",
      "3  Medium           1.0\n"
     ]
    }
   ],
   "source": [
    "from sklearn.preprocessing import  OrdinalEncoder\n",
    "#sample data\n",
    "data={'size':['Small','Medium','Large','Medium']}\n",
    "df=pd.DataFrame(data)\n",
    "print(df)\n",
    "\n",
    "#Ordinal Encoder\n",
    "ordinal_encoder=OrdinalEncoder(categories=[['Small','Medium','Large']])   #define  the orinal encoder  and then bata dia kn categories ka order kia hai ye us orrder ko daikhta howay encode kry ga\n",
    "df['size_encoder']=ordinal_encoder.fit_transform(df[['size']])\n",
    "print(df)"
   ]
  },
  {
   "cell_type": "code",
   "execution_count": null,
   "metadata": {},
   "outputs": [],
   "source": []
  }
 ],
 "metadata": {
  "kernelspec": {
   "display_name": "python_eda",
   "language": "python",
   "name": "python3"
  },
  "language_info": {
   "codemirror_mode": {
    "name": "ipython",
    "version": 3
   },
   "file_extension": ".py",
   "mimetype": "text/x-python",
   "name": "python",
   "nbconvert_exporter": "python",
   "pygments_lexer": "ipython3",
   "version": "3.12.0"
  }
 },
 "nbformat": 4,
 "nbformat_minor": 2
}
